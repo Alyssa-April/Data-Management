{
  "nbformat": 4,
  "nbformat_minor": 0,
  "metadata": {
    "colab": {
      "provenance": []
    },
    "kernelspec": {
      "name": "python3",
      "display_name": "Python 3"
    },
    "language_info": {
      "name": "python"
    }
  },
  "cells": [
    {
      "cell_type": "markdown",
      "source": [
        "# **Best and Worst Average Ratings of the Movielens Data Set Using Spark 2.0.0**\n",
        "Alyssa April Dellow\n",
        "\n",
        "P125528"
      ],
      "metadata": {
        "id": "hLIA1IJ9cnMq"
      }
    },
    {
      "cell_type": "markdown",
      "source": [
        "# **Organisation of Notebook**\n",
        "\n",
        "This Notebook consists of four major sections as follows:\n",
        "\n",
        "1. **Section 1** - Installation of the PySpark package and mounting of Google Drive.\n",
        "2. **Section 2** - A breakdown of the steps taken to analyse the MovieLens data set according to the checklist provided. In this section, comments are included to explain each line of code for better comprehension.\n",
        "3. **Section 3** - A final combination of all the codes to get an overall view of the process.\n",
        "4. **Section 4** - A simple explanation of how efficient and optimal Spark transformations and actions are used in this Notebook. An error handling technique utilised is also briefly mentioned.\n"
      ],
      "metadata": {
        "id": "Yi7bq6dYjZFY"
      }
    },
    {
      "cell_type": "markdown",
      "source": [
        "# **Section 1**"
      ],
      "metadata": {
        "id": "A0kZuAYxseq7"
      }
    },
    {
      "cell_type": "markdown",
      "source": [
        "## **PySpark Package**\n",
        "[Apache Spark](https://spark.apache.org/) is defined as a  \"multi-language engine for executing data engineering, data science and machine learning on single-node machines or clusters\". It is a big data processing and analytics distributed computing system. [Spark 2.0.0](https://spark.apache.org/releases/spark-release-2-0-0.html) was released on 26 July 2016 with major updates on the API usability, SQL 2003 support, performance improvements, structured streaming, R UDF support and operational improvements.\n",
        "\n",
        "<p align=\"justify\">Before being able to conduct an analysis on the MovieLens data set using Spark 2.0.0 in Google Colab, the PySpark package needs to be installed first. PySpark is included in the official Spark releases and is now available in the Python Package Index (PyPI), which is a repository of software for the Python programming language. By installing the PySpark package, it offers us the required tools and APIs for interacting with Spark via the execution of familiar Python codes, making our tasks much more convenient. Once PySpark has been imported, Spark's ability to handle data can be utilised to the fullest in completing our MovieLens analysis."
      ],
      "metadata": {
        "id": "UFZ5cuIBdhSW"
      }
    },
    {
      "cell_type": "code",
      "execution_count": null,
      "metadata": {
        "colab": {
          "base_uri": "https://localhost:8080/"
        },
        "id": "8Qu8SJ2ZejT9",
        "outputId": "6f278f72-3f46-4847-f113-3561099d7e0a"
      },
      "outputs": [
        {
          "output_type": "stream",
          "name": "stdout",
          "text": [
            "Looking in indexes: https://pypi.org/simple, https://us-python.pkg.dev/colab-wheels/public/simple/\n",
            "Requirement already satisfied: pyspark in /usr/local/lib/python3.10/dist-packages (3.4.0)\n",
            "Requirement already satisfied: py4j==0.10.9.7 in /usr/local/lib/python3.10/dist-packages (from pyspark) (0.10.9.7)\n"
          ]
        }
      ],
      "source": [
        "# Install PySpark package\n",
        "!pip install pyspark"
      ]
    },
    {
      "cell_type": "code",
      "source": [
        "# Mount Google Drive in Google Colab.\n",
        "# This enables files saved in Google Drive to be accessed directly from this\n",
        "# Notebook.\n",
        "from google.colab import drive\n",
        "drive.mount('/content/drive')"
      ],
      "metadata": {
        "id": "MvfhLHbvhHgl",
        "colab": {
          "base_uri": "https://localhost:8080/"
        },
        "outputId": "9b75fb1b-2329-45ba-f898-983cf99b5e89"
      },
      "execution_count": null,
      "outputs": [
        {
          "output_type": "stream",
          "name": "stdout",
          "text": [
            "Drive already mounted at /content/drive; to attempt to forcibly remount, call drive.mount(\"/content/drive\", force_remount=True).\n"
          ]
        }
      ]
    },
    {
      "cell_type": "markdown",
      "source": [
        "# **Section 2**\n",
        "\n",
        "<p align=\"justify\">This section goes through each code step by step and lists out the parts where each point in the checklist is accomplished."
      ],
      "metadata": {
        "id": "hggwAyME1fP3"
      }
    },
    {
      "cell_type": "markdown",
      "source": [
        "**Import all the necessary modules**"
      ],
      "metadata": {
        "id": "l32NJoxG1lTk"
      }
    },
    {
      "cell_type": "code",
      "source": [
        "# The entry point to programming Spark with the Dataset and DataFrame API.\n",
        "from pyspark.sql import SparkSession\n",
        "\n",
        "# Import the ROW method, which takes up the argument for creating Row Object.\n",
        "from pyspark.sql import Row\n",
        "\n",
        "# col: Returns a Column based on the given column name.\n",
        "# avg: Aggregate function that returns the average of the values in a group.\n",
        "# min: Aggregate function that returns the minimum value of the expression in\n",
        "# a group.\n",
        "from pyspark.sql.functions import col, avg, min"
      ],
      "metadata": {
        "id": "IACfbjzWmHVM"
      },
      "execution_count": null,
      "outputs": []
    },
    {
      "cell_type": "markdown",
      "source": [
        "**Successfully loaded the MovieLens dataset into Spark**"
      ],
      "metadata": {
        "id": "TkQeDKzN130T"
      }
    },
    {
      "cell_type": "code",
      "source": [
        "# Define the parseInput function\n",
        "def parseInput(line):\n",
        "  # Separate the input into individual fields based on whitespace.\n",
        "  fields = line.split()\n",
        "  # Create a Row object based on the parsed data of movie id, rating and\n",
        "  # timestamp from the u.data file later on. The columns are named movieID,\n",
        "  # rating and timestamp.\n",
        "  return Row(movieID = int(fields[1]), rating = float(fields[2]),\n",
        "             timestamp = float(fields[3]))"
      ],
      "metadata": {
        "id": "htSkZIxpu6La"
      },
      "execution_count": null,
      "outputs": []
    },
    {
      "cell_type": "code",
      "source": [
        "# Create a SparkSession using the supplied name \"Best&WorstMovieRatings\".\n",
        "# This allows us to communicate with Spark and execute various actions on the\n",
        "# data using the Spark APIs.\n",
        "# getOrCreate() will retrieve an existing SparkSession or create a new one\n",
        "# if it does not exist.\n",
        "spark = SparkSession.builder.appName(\"Best&WorstMovieRatings\").getOrCreate()\n",
        "\n",
        "# Read-in the u.item file into Google Colab.\n",
        "# Select only the movie id and movie title columns, then rename them.\n",
        "item_df = spark.read.csv(\"/content/drive/MyDrive/DM_Assignment3/u.item\",\n",
        "                           header=False, sep=\"|\")\n",
        "item_df = item_df.select(col(\"_c0\").alias(\"movieID\"),\n",
        "                             col(\"_c1\").alias(\"movieName\"))\n",
        "\n",
        "# Print the first 10 rows of item_df to the console.\n",
        "# The argument \"truncate = False\" ensures that the whole string is printed\n",
        "# to the console.\n",
        "item_df.show(n = 10, truncate = False)\n",
        "\n",
        "# Read the raw data called u.data.\n",
        "# Reads the text file from the path provided and returns a Resilient\n",
        "# Distributed Dataset (RDD).\n",
        "lines = spark.sparkContext.\\\n",
        "        textFile(\"/content/drive/MyDrive/DM_Assignment3/u.data\")\n",
        "\n",
        "# Convert the data into a RDD of Row objects with (movie id, rating and\n",
        "# timestamp)\n",
        "u_data = lines.map(parseInput)\n",
        "\n",
        "# Convert the RDD of Row objects into a DataFrame and cache it\n",
        "data_df = spark.createDataFrame(u_data).cache()"
      ],
      "metadata": {
        "id": "-1rdIWqQsxrt",
        "colab": {
          "base_uri": "https://localhost:8080/"
        },
        "outputId": "5719f09c-ee77-4e4e-a2b8-03424725a17f"
      },
      "execution_count": null,
      "outputs": [
        {
          "output_type": "stream",
          "name": "stdout",
          "text": [
            "+-------+----------------------------------------------------+\n",
            "|movieID|movieName                                           |\n",
            "+-------+----------------------------------------------------+\n",
            "|1      |Toy Story (1995)                                    |\n",
            "|2      |GoldenEye (1995)                                    |\n",
            "|3      |Four Rooms (1995)                                   |\n",
            "|4      |Get Shorty (1995)                                   |\n",
            "|5      |Copycat (1995)                                      |\n",
            "|6      |Shanghai Triad (Yao a yao yao dao waipo qiao) (1995)|\n",
            "|7      |Twelve Monkeys (1995)                               |\n",
            "|8      |Babe (1995)                                         |\n",
            "|9      |Dead Man Walking (1995)                             |\n",
            "|10     |Richard III (1995)                                  |\n",
            "+-------+----------------------------------------------------+\n",
            "only showing top 10 rows\n",
            "\n"
          ]
        }
      ]
    },
    {
      "cell_type": "code",
      "source": [
        "# Print the first 10 rows of data_df to the console\n",
        "data_df.show(n = 10)"
      ],
      "metadata": {
        "colab": {
          "base_uri": "https://localhost:8080/"
        },
        "id": "dOVHKqb6z5f8",
        "outputId": "4a4e3d16-2d22-4a80-e0eb-797e29e3eff8"
      },
      "execution_count": null,
      "outputs": [
        {
          "output_type": "stream",
          "name": "stdout",
          "text": [
            "+-------+------+------------+\n",
            "|movieID|rating|   timestamp|\n",
            "+-------+------+------------+\n",
            "|    242|   3.0|8.81250949E8|\n",
            "|    302|   3.0|8.91717742E8|\n",
            "|    377|   1.0|8.78887116E8|\n",
            "|     51|   2.0|8.80606923E8|\n",
            "|    346|   1.0|8.86397596E8|\n",
            "|    474|   4.0|8.84182806E8|\n",
            "|    265|   2.0|8.81171488E8|\n",
            "|    465|   5.0|8.91628467E8|\n",
            "|    451|   3.0|8.86324817E8|\n",
            "|     86|   3.0|8.83603013E8|\n",
            "+-------+------+------------+\n",
            "only showing top 10 rows\n",
            "\n"
          ]
        }
      ]
    },
    {
      "cell_type": "markdown",
      "source": [
        "**Filtered out the movies with less than and equal to 100 ratings**"
      ],
      "metadata": {
        "id": "ZycWKJTq0c1h"
      }
    },
    {
      "cell_type": "code",
      "source": [
        "# Perform filtering to keep only movies with more than 100 ratings by first\n",
        "# grouping the data in data_df by their movieID and then counting the\n",
        "# number of rows for each group.\n",
        "more_100_ratings = data_df.groupBy(\"movieID\").count().filter(\"count > 100\")\n",
        "\n",
        "# Print the first 10 rows of more_100_ratings to the console\n",
        "more_100_ratings.show(n = 10)\n",
        "\n",
        "# This reflects the subset of movies with a significant number of ratings,\n",
        "# which could somewhat be an indicator of popularity."
      ],
      "metadata": {
        "colab": {
          "base_uri": "https://localhost:8080/"
        },
        "id": "IsK2R6JoLYjz",
        "outputId": "13c1803d-7bf7-4b8c-e0d5-d17a09aabf9f"
      },
      "execution_count": null,
      "outputs": [
        {
          "output_type": "stream",
          "name": "stdout",
          "text": [
            "+-------+-----+\n",
            "|movieID|count|\n",
            "+-------+-----+\n",
            "|    474|  194|\n",
            "|     29|  114|\n",
            "|     65|  115|\n",
            "|    191|  276|\n",
            "|    418|  129|\n",
            "|    222|  365|\n",
            "|    293|  147|\n",
            "|    270|  136|\n",
            "|    367|  170|\n",
            "|    705|  137|\n",
            "+-------+-----+\n",
            "only showing top 10 rows\n",
            "\n"
          ]
        }
      ]
    },
    {
      "cell_type": "markdown",
      "source": [
        "**Included only the oldest timestamp**\n",
        "\n",
        "**Calculated the average rating for each movie**"
      ],
      "metadata": {
        "id": "Lo1Lk8tO5IfL"
      }
    },
    {
      "cell_type": "code",
      "source": [
        "# Carries out an inner join between more_100_ratings and data_df based on\n",
        "# the movieID column. For keys that don't match, the rows are dropped. Hence,\n",
        "# only movies with more than 100 ratings are in filtered_movies.\n",
        "filtered_movies = more_100_ratings.join(data_df,\n",
        "                                           more_100_ratings.\\\n",
        "                                           movieID == data_df.movieID)\n",
        "\n",
        "# Drops one of the movieID columns since they are redundant, and also drop count\n",
        "filtered_movies = filtered_movies.drop(more_100_ratings.movieID, \"count\")\n",
        "\n",
        "# Print the first 10 rows of filtered_movies to the console\n",
        "filtered_movies.show(n = 10)"
      ],
      "metadata": {
        "colab": {
          "base_uri": "https://localhost:8080/"
        },
        "id": "pO0_OiRIN9wD",
        "outputId": "60388a0b-772a-4f9d-9794-a9bdc4df53bb"
      },
      "execution_count": null,
      "outputs": [
        {
          "output_type": "stream",
          "name": "stdout",
          "text": [
            "+-------+------+------------+\n",
            "|movieID|rating|   timestamp|\n",
            "+-------+------+------------+\n",
            "|    242|   3.0|8.81250949E8|\n",
            "|    302|   3.0|8.91717742E8|\n",
            "|    346|   1.0|8.86397596E8|\n",
            "|    474|   4.0|8.84182806E8|\n",
            "|    265|   2.0|8.81171488E8|\n",
            "|    451|   3.0|8.86324817E8|\n",
            "|     86|   3.0|8.83603013E8|\n",
            "|    257|   2.0|8.79372434E8|\n",
            "|    222|   5.0| 8.7604234E8|\n",
            "|     29|   3.0|8.88104457E8|\n",
            "+-------+------+------------+\n",
            "only showing top 10 rows\n",
            "\n"
          ]
        }
      ]
    },
    {
      "cell_type": "code",
      "source": [
        "# Carries out an inner join between item_df and filtered_movies based on\n",
        "# the movieID column.\n",
        "filtered_movies = item_df.join(filtered_movies,\n",
        "                                    item_df.movieID == filtered_movies.\\\n",
        "                                    movieID)\n",
        "\n",
        "# Drops one of the movieID columns since they are redundant\n",
        "filtered_movies = filtered_movies.drop(item_df.movieID)\n",
        "\n",
        "# Print the first 10 rows of filtered_movies to the console\n",
        "filtered_movies.show(n = 10, truncate = False)"
      ],
      "metadata": {
        "colab": {
          "base_uri": "https://localhost:8080/"
        },
        "id": "mA7jomY6jqLK",
        "outputId": "2c8155ac-a4a4-41e7-8686-f2c4cdddbe4c"
      },
      "execution_count": null,
      "outputs": [
        {
          "output_type": "stream",
          "name": "stdout",
          "text": [
            "+---------------------------------------------------------------------------+-------+------+------------+\n",
            "|movieName                                                                  |movieID|rating|timestamp   |\n",
            "+---------------------------------------------------------------------------+-------+------+------------+\n",
            "|Kolya (1996)                                                               |242    |3.0   |8.81250949E8|\n",
            "|L.A. Confidential (1997)                                                   |302    |3.0   |8.91717742E8|\n",
            "|Jackie Brown (1997)                                                        |346    |1.0   |8.86397596E8|\n",
            "|Dr. Strangelove or: How I Learned to Stop Worrying and Love the Bomb (1963)|474    |4.0   |8.84182806E8|\n",
            "|Hunt for Red October, The (1990)                                           |265    |2.0   |8.81171488E8|\n",
            "|Grease (1978)                                                              |451    |3.0   |8.86324817E8|\n",
            "|Remains of the Day, The (1993)                                             |86     |3.0   |8.83603013E8|\n",
            "|Men in Black (1997)                                                        |257    |2.0   |8.79372434E8|\n",
            "|Star Trek: First Contact (1996)                                            |222    |5.0   |8.7604234E8 |\n",
            "|Batman Forever (1995)                                                      |29     |3.0   |8.88104457E8|\n",
            "+---------------------------------------------------------------------------+-------+------+------------+\n",
            "only showing top 10 rows\n",
            "\n"
          ]
        }
      ]
    },
    {
      "cell_type": "code",
      "source": [
        "# Group the data in data_df by their movieID and perform an\n",
        "# aggregation operation on each group. Find the minimum\n",
        "# value of timestamp within each group, which represents the oldest timestamp.\n",
        "# Then rename the column as oldest_timestamp.\n",
        "oldest_timestamp = data_df.groupBy(\"movieID\").\\\n",
        "                   agg(min(\"timestamp\").alias('oldest_timestamp'))\n",
        "\n",
        "# Print the first 10 rows of oldest_timestamp to the console.\n",
        "oldest_timestamp.show(n = 10)"
      ],
      "metadata": {
        "colab": {
          "base_uri": "https://localhost:8080/"
        },
        "id": "ceRDsC0ZyTqI",
        "outputId": "f86177e5-c201-4aa3-db99-89731270a609"
      },
      "execution_count": null,
      "outputs": [
        {
          "output_type": "stream",
          "name": "stdout",
          "text": [
            "+-------+----------------+\n",
            "|movieID|oldest_timestamp|\n",
            "+-------+----------------+\n",
            "|    474|    8.74777623E8|\n",
            "|     29|    8.74796373E8|\n",
            "|     26|    8.74957053E8|\n",
            "|    964|    8.76465335E8|\n",
            "|     65|    8.74787467E8|\n",
            "|    191|    8.74730396E8|\n",
            "|   1224|    8.75638842E8|\n",
            "|    558|    8.74787526E8|\n",
            "|   1010|    8.74786784E8|\n",
            "|    418|    8.74730553E8|\n",
            "+-------+----------------+\n",
            "only showing top 10 rows\n",
            "\n"
          ]
        }
      ]
    },
    {
      "cell_type": "code",
      "source": [
        "# Carries out an inner join between oldest_timestamp and filtered_movies\n",
        "# based on the movieID column. This way, rows without the oldest timestamp\n",
        "# will be dropped.\n",
        "filtered_movies = oldest_timestamp.\\\n",
        "                     join(filtered_movies, oldest_timestamp.\\\n",
        "                          movieID == filtered_movies.movieID)\n",
        "\n",
        "# Drops one of the movieID columns and the timestamp column.\n",
        "filtered_movies = filtered_movies.drop(oldest_timestamp.movieID,\n",
        "                     filtered_movies.timestamp)\n",
        "\n",
        "# Print the first 10 rows of filtered_movies to the console.\n",
        "filtered_movies.show(n = 10, truncate = False)"
      ],
      "metadata": {
        "colab": {
          "base_uri": "https://localhost:8080/"
        },
        "id": "o0Dvsv8B0pbT",
        "outputId": "63d5ef76-ca49-4287-8bea-d6913dbac434"
      },
      "execution_count": null,
      "outputs": [
        {
          "output_type": "stream",
          "name": "stdout",
          "text": [
            "+----------------+---------------------------------------------------------------------------+-------+------+\n",
            "|oldest_timestamp|movieName                                                                  |movieID|rating|\n",
            "+----------------+---------------------------------------------------------------------------+-------+------+\n",
            "|8.74951617E8    |Kolya (1996)                                                               |242    |3.0   |\n",
            "|8.75408934E8    |L.A. Confidential (1997)                                                   |302    |3.0   |\n",
            "|8.83099368E8    |Jackie Brown (1997)                                                        |346    |1.0   |\n",
            "|8.74777623E8    |Dr. Strangelove or: How I Learned to Stop Worrying and Love the Bomb (1963)|474    |4.0   |\n",
            "|8.74792483E8    |Hunt for Red October, The (1990)                                           |265    |2.0   |\n",
            "|8.74787256E8    |Grease (1978)                                                              |451    |3.0   |\n",
            "|8.74782068E8    |Remains of the Day, The (1993)                                             |86     |3.0   |\n",
            "|8.74775614E8    |Men in Black (1997)                                                        |257    |2.0   |\n",
            "|8.74775311E8    |Star Trek: First Contact (1996)                                            |222    |5.0   |\n",
            "|8.74796373E8    |Batman Forever (1995)                                                      |29     |3.0   |\n",
            "+----------------+---------------------------------------------------------------------------+-------+------+\n",
            "only showing top 10 rows\n",
            "\n"
          ]
        }
      ]
    },
    {
      "cell_type": "code",
      "source": [
        "# Group the data in filtered_movies based on the movieID, movieName and\n",
        "# oldest_timestamp columns. Perform the aggregation operation on each group\n",
        "# before computing the average value of rating for each group. This\n",
        "# represents the average rating for a particular movie. After that, rename\n",
        "# the column as average_rating.\n",
        "avg_ratings_df = filtered_movies.groupBy(filtered_movies.movieID,\n",
        "                                            item_df.movieName,\n",
        "                                            oldest_timestamp.oldest_timestamp).\\\n",
        "                                            agg(avg(\"rating\").\\\n",
        "                                            alias(\"average_rating\"))\n",
        "\n",
        "# Print the first 10 rows of avg_ratings_df to the console\n",
        "avg_ratings_df.show(n = 10, truncate = False)"
      ],
      "metadata": {
        "colab": {
          "base_uri": "https://localhost:8080/"
        },
        "id": "pxZt_Pc9ixsC",
        "outputId": "93d45db9-8634-475a-870a-9fcba6d9e140"
      },
      "execution_count": null,
      "outputs": [
        {
          "output_type": "stream",
          "name": "stdout",
          "text": [
            "+-------+-------------------------------+----------------+------------------+\n",
            "|movieID|movieName                      |oldest_timestamp|average_rating    |\n",
            "+-------+-------------------------------+----------------+------------------+\n",
            "|68     |Crow, The (1994)               |8.74778479E8    |3.417910447761194 |\n",
            "|276    |Leaving Las Vegas (1995)       |8.74775262E8    |3.697986577181208 |\n",
            "|164    |Abyss, The (1989)              |8.74792663E8    |3.589403973509934 |\n",
            "|31     |Crimson Tide (1995)            |8.74781779E8    |3.6298701298701297|\n",
            "|288    |Scream (1996)                  |8.74724905E8    |3.4414225941422596|\n",
            "|255    |My Best Friend's Wedding (1997)|8.7472471E8     |3.36046511627907  |\n",
            "|705    |Singin' in the Rain (1952)     |8.74785526E8    |3.9927007299270074|\n",
            "|180    |Apocalypse Now (1979)          |8.74777528E8    |4.04524886877828  |\n",
            "|628    |Sleepers (1996)                |8.74775185E8    |3.514792899408284 |\n",
            "|403    |Batman (1989)                  |8.74828826E8    |3.427860696517413 |\n",
            "+-------+-------------------------------+----------------+------------------+\n",
            "only showing top 10 rows\n",
            "\n"
          ]
        }
      ]
    },
    {
      "cell_type": "markdown",
      "source": [
        "**Sorted the movies based on the average rating (in descending order)**"
      ],
      "metadata": {
        "id": "IaKhJlBbsUpK"
      }
    },
    {
      "cell_type": "code",
      "source": [
        "# Orders avg_ratings_df in descending order based on the average_rating values.\n",
        "# This allows us to view movies with the highest average ratings first.\n",
        "avg_ratings_df = avg_ratings_df.orderBy(\"average_rating\", ascending = False)\n",
        "\n",
        "# Print the first 10 rows of avg_ratings_df to the console\n",
        "avg_ratings_df.show(n = 10, truncate = False)"
      ],
      "metadata": {
        "colab": {
          "base_uri": "https://localhost:8080/"
        },
        "id": "hsHYfTKTsT-g",
        "outputId": "dcd8eb67-79e5-45bb-9e90-3149f24641b4"
      },
      "execution_count": null,
      "outputs": [
        {
          "output_type": "stream",
          "name": "stdout",
          "text": [
            "+-------+--------------------------------+----------------+------------------+\n",
            "|movieID|movieName                       |oldest_timestamp|average_rating    |\n",
            "+-------+--------------------------------+----------------+------------------+\n",
            "|408    |Close Shave, A (1995)           |8.74784538E8    |4.491071428571429 |\n",
            "|318    |Schindler's List (1993)         |8.74777948E8    |4.466442953020135 |\n",
            "|169    |Wrong Trousers, The (1993)      |8.7477789E8     |4.466101694915254 |\n",
            "|483    |Casablanca (1942)               |8.74786695E8    |4.45679012345679  |\n",
            "|64     |Shawshank Redemption, The (1994)|8.74777701E8    |4.445229681978798 |\n",
            "|603    |Rear Window (1954)              |8.74785448E8    |4.3875598086124405|\n",
            "|12     |Usual Suspects, The (1995)      |8.74777491E8    |4.385767790262173 |\n",
            "|50     |Star Wars (1977)                |8.7472975E8     |4.3584905660377355|\n",
            "|178    |12 Angry Men (1957)             |8.74831383E8    |4.344             |\n",
            "|134    |Citizen Kane (1941)             |8.74777623E8    |4.292929292929293 |\n",
            "+-------+--------------------------------+----------------+------------------+\n",
            "only showing top 10 rows\n",
            "\n"
          ]
        }
      ]
    },
    {
      "cell_type": "markdown",
      "source": [
        "**Selected the top 25 movies with the highest average rating**\n",
        "\n",
        "**Selected the top 25 movies with the lowest average rating**"
      ],
      "metadata": {
        "id": "chkS0nJcuEMY"
      }
    },
    {
      "cell_type": "code",
      "source": [
        "# Since avg_ratings_df is already in descending order of average_rating, we\n",
        "# limit avg_ratings to contain only the first 25 rows. This gives us the top\n",
        "# 25 best movies based on average ratings.\n",
        "best_25_average_ratings = avg_ratings_df.limit(25)\n",
        "\n",
        "# To obtain the top 25 movies with the lowest average ratings,\n",
        "# order avg_ratings_df in ascending order of average_rating, in order to display\n",
        "# movies with the lowest average ratings first. Limit to 25 results.\n",
        "worst_25_average_ratings = avg_ratings_df.orderBy(\"average_rating\").limit(25)"
      ],
      "metadata": {
        "id": "EgoJf5397JGB"
      },
      "execution_count": null,
      "outputs": []
    },
    {
      "cell_type": "code",
      "source": [
        "# Print the first 25 rows of best_25_average_ratings to the console. This\n",
        "# represents the top 25 movies with the best average ratings.\n",
        "best_25_average_ratings.show(n = 25, truncate = False)"
      ],
      "metadata": {
        "colab": {
          "base_uri": "https://localhost:8080/"
        },
        "id": "D8DC6iDI8wmt",
        "outputId": "36cc50ee-4f77-4e7d-c4bd-6d18bd433ede"
      },
      "execution_count": null,
      "outputs": [
        {
          "output_type": "stream",
          "name": "stdout",
          "text": [
            "+-------+---------------------------------------------------------------------------+----------------+------------------+\n",
            "|movieID|movieName                                                                  |oldest_timestamp|average_rating    |\n",
            "+-------+---------------------------------------------------------------------------+----------------+------------------+\n",
            "|408    |Close Shave, A (1995)                                                      |8.74784538E8    |4.491071428571429 |\n",
            "|318    |Schindler's List (1993)                                                    |8.74777948E8    |4.466442953020135 |\n",
            "|169    |Wrong Trousers, The (1993)                                                 |8.7477789E8     |4.466101694915254 |\n",
            "|483    |Casablanca (1942)                                                          |8.74786695E8    |4.45679012345679  |\n",
            "|64     |Shawshank Redemption, The (1994)                                           |8.74777701E8    |4.445229681978798 |\n",
            "|603    |Rear Window (1954)                                                         |8.74785448E8    |4.3875598086124405|\n",
            "|12     |Usual Suspects, The (1995)                                                 |8.74777491E8    |4.385767790262173 |\n",
            "|50     |Star Wars (1977)                                                           |8.7472975E8     |4.3584905660377355|\n",
            "|178    |12 Angry Men (1957)                                                        |8.74831383E8    |4.344             |\n",
            "|134    |Citizen Kane (1941)                                                        |8.74777623E8    |4.292929292929293 |\n",
            "|427    |To Kill a Mockingbird (1962)                                               |8.74789279E8    |4.292237442922374 |\n",
            "|357    |One Flew Over the Cuckoo's Nest (1975)                                     |8.74725485E8    |4.291666666666667 |\n",
            "|98     |Silence of the Lambs, The (1991)                                           |8.74786016E8    |4.28974358974359  |\n",
            "|480    |North by Northwest (1959)                                                  |8.75238923E8    |4.284916201117318 |\n",
            "|127    |Godfather, The (1972)                                                      |8.74781076E8    |4.283292978208232 |\n",
            "|285    |Secrets & Lies (1996)                                                      |8.74833746E8    |4.265432098765432 |\n",
            "|272    |Good Will Hunting (1997)                                                   |8.82955387E8    |4.262626262626263 |\n",
            "|657    |Manchurian Candidate, The (1962)                                           |8.74873745E8    |4.259541984732825 |\n",
            "|474    |Dr. Strangelove or: How I Learned to Stop Worrying and Love the Bomb (1963)|8.74777623E8    |4.252577319587629 |\n",
            "|174    |Raiders of the Lost Ark (1981)                                             |8.74729995E8    |4.252380952380952 |\n",
            "|479    |Vertigo (1958)                                                             |8.74785728E8    |4.251396648044692 |\n",
            "|313    |Titanic (1997)                                                             |8.82693234E8    |4.2457142857142856|\n",
            "|511    |Lawrence of Arabia (1962)                                                  |8.74781407E8    |4.23121387283237  |\n",
            "|484    |Maltese Falcon, The (1941)                                                 |8.74793898E8    |4.2101449275362315|\n",
            "|172    |Empire Strikes Back, The (1980)                                            |8.74729901E8    |4.204359673024523 |\n",
            "+-------+---------------------------------------------------------------------------+----------------+------------------+\n",
            "\n"
          ]
        }
      ]
    },
    {
      "cell_type": "code",
      "source": [
        "# Print the first 25 rows of worst_25_average_ratings to the console. This\n",
        "# represents the top 25 movies with the worst average ratings.\n",
        "worst_25_average_ratings.show(n = 25, truncate = False)"
      ],
      "metadata": {
        "colab": {
          "base_uri": "https://localhost:8080/"
        },
        "id": "LEPY-o8N8wsv",
        "outputId": "3c2396ba-de59-4407-c664-732dafa437d6"
      },
      "execution_count": null,
      "outputs": [
        {
          "output_type": "stream",
          "name": "stdout",
          "text": [
            "+-------+--------------------------------------+----------------+------------------+\n",
            "|movieID|movieName                             |oldest_timestamp|average_rating    |\n",
            "+-------+--------------------------------------+----------------+------------------+\n",
            "|122    |Cable Guy, The (1996)                 |8.7478715E8     |2.339622641509434 |\n",
            "|243    |Jungle2Jungle (1997)                  |8.74951039E8    |2.4393939393939394|\n",
            "|325    |Crash (1996)                          |8.74786419E8    |2.546875          |\n",
            "|260    |Event Horizon (1997)                  |8.74786439E8    |2.574803149606299 |\n",
            "|358    |Spawn (1997)                          |8.74786419E8    |2.6153846153846154|\n",
            "|29     |Batman Forever (1995)                 |8.74796373E8    |2.6666666666666665|\n",
            "|231    |Batman Returns (1992)                 |8.74778424E8    |2.683098591549296 |\n",
            "|259    |George of the Jungle (1997)           |8.7482796E8     |2.685185185185185 |\n",
            "|926    |Down Periscope (1996)                 |8.751301E8      |2.702970297029703 |\n",
            "|264    |Mimic (1997)                          |8.74828296E8    |2.742574257425743 |\n",
            "|240    |Beavis and Butt-head Do America (1996)|8.74786713E8    |2.7884615384615383|\n",
            "|554    |Waterworld (1995)                     |8.74790813E8    |2.803921568627451 |\n",
            "|678    |Volcano (1997)                        |8.74786419E8    |2.808219178082192 |\n",
            "|1047   |Multiplicity (1996)                   |8.74789005E8    |2.8358208955223883|\n",
            "|235    |Mars Attacks! (1996)                  |8.74774956E8    |2.847926267281106 |\n",
            "|756    |Father of the Bride Part II (1995)    |8.74833878E8    |2.8984375         |\n",
            "|225    |101 Dalmatians (1996)                 |8.74786854E8    |2.908256880733945 |\n",
            "|411    |Nutty Professor, The (1996)           |8.74786807E8    |2.914110429447853 |\n",
            "|323    |Dante's Peak (1997)                   |8.74774449E8    |2.933333333333333 |\n",
            "|252    |Lost World: Jurassic Park, The (1997) |8.74780832E8    |2.9430379746835444|\n",
            "|53     |Natural Born Killers (1994)           |8.74778274E8    |2.953125          |\n",
            "|289    |Evita (1996)                          |8.74815789E8    |2.9806949806949805|\n",
            "|38     |Net, The (1995)                       |8.74730553E8    |3.0083333333333333|\n",
            "|476    |First Wives Club, The (1996)          |8.74792403E8    |3.01875           |\n",
            "|546    |Broken Arrow (1996)                   |8.74775914E8    |3.031496062992126 |\n",
            "+-------+--------------------------------------+----------------+------------------+\n",
            "\n"
          ]
        }
      ]
    },
    {
      "cell_type": "markdown",
      "source": [
        "**Ordered the output results on the console by oldest timestamp**\n",
        "\n",
        "**Displayed the results on the console**"
      ],
      "metadata": {
        "id": "WjtGUcCaDRvT"
      }
    },
    {
      "cell_type": "code",
      "source": [
        "# The top 25 movies with the best average ratings are then ordered in\n",
        "# ascending order of oldest_timestamp.\n",
        "best_avg_rate_tmstmp = best_25_average_ratings.orderBy(\"oldest_timestamp\")\n",
        "\n",
        "# Rename the average_rating column as best_average_ratings\n",
        "best_avg_rate_tmstmp = best_avg_rate_tmstmp.\\\n",
        "                          withColumnRenamed(\"average_rating\",\n",
        "                                            \"best_average_ratings\")\n",
        "\n",
        "# The top 25 movies with the worst average ratings are ordered in\n",
        "# ascending order of oldest_timestamp.\n",
        "worst_avg_rate_tmstmp = worst_25_average_ratings.orderBy(\"oldest_timestamp\")\n",
        "\n",
        "# Rename the average_rating column as worst_average_ratings\n",
        "worst_avg_rate_tmstmp = worst_avg_rate_tmstmp.\\\n",
        "                        withColumnRenamed(\"average_rating\",\n",
        "                                          \"worst_average_ratings\")"
      ],
      "metadata": {
        "id": "lh1AEgi6_IGd"
      },
      "execution_count": null,
      "outputs": []
    },
    {
      "cell_type": "code",
      "source": [
        "# Give an indication of what the table below is about\n",
        "print(\"Top 25 Movies with the Best Average Ratings Sorted by \" +\n",
        "\"Oldest Timestamp\")\n",
        "# Print the first 25 rows of best_avg_rate_tmstmp to the console.\n",
        "best_avg_rate_tmstmp.show(n = 25, truncate = False)"
      ],
      "metadata": {
        "colab": {
          "base_uri": "https://localhost:8080/"
        },
        "id": "OY6vZXXB_pa6",
        "outputId": "5a24741f-7689-409a-a3be-d0876e17b641"
      },
      "execution_count": null,
      "outputs": [
        {
          "output_type": "stream",
          "name": "stdout",
          "text": [
            "Top 25 Movies with the Best Average Ratings Sorted by Oldest Timestamp\n",
            "+-------+---------------------------------------------------------------------------+----------------+--------------------+\n",
            "|movieID|movieName                                                                  |oldest_timestamp|best_average_ratings|\n",
            "+-------+---------------------------------------------------------------------------+----------------+--------------------+\n",
            "|357    |One Flew Over the Cuckoo's Nest (1975)                                     |8.74725485E8    |4.291666666666667   |\n",
            "|50     |Star Wars (1977)                                                           |8.7472975E8     |4.3584905660377355  |\n",
            "|172    |Empire Strikes Back, The (1980)                                            |8.74729901E8    |4.204359673024523   |\n",
            "|174    |Raiders of the Lost Ark (1981)                                             |8.74729995E8    |4.252380952380952   |\n",
            "|12     |Usual Suspects, The (1995)                                                 |8.74777491E8    |4.385767790262173   |\n",
            "|134    |Citizen Kane (1941)                                                        |8.74777623E8    |4.292929292929293   |\n",
            "|474    |Dr. Strangelove or: How I Learned to Stop Worrying and Love the Bomb (1963)|8.74777623E8    |4.252577319587629   |\n",
            "|64     |Shawshank Redemption, The (1994)                                           |8.74777701E8    |4.445229681978798   |\n",
            "|169    |Wrong Trousers, The (1993)                                                 |8.7477789E8     |4.466101694915254   |\n",
            "|318    |Schindler's List (1993)                                                    |8.74777948E8    |4.466442953020135   |\n",
            "|127    |Godfather, The (1972)                                                      |8.74781076E8    |4.283292978208232   |\n",
            "|511    |Lawrence of Arabia (1962)                                                  |8.74781407E8    |4.23121387283237    |\n",
            "|408    |Close Shave, A (1995)                                                      |8.74784538E8    |4.491071428571429   |\n",
            "|603    |Rear Window (1954)                                                         |8.74785448E8    |4.3875598086124405  |\n",
            "|479    |Vertigo (1958)                                                             |8.74785728E8    |4.251396648044692   |\n",
            "|98     |Silence of the Lambs, The (1991)                                           |8.74786016E8    |4.28974358974359    |\n",
            "|483    |Casablanca (1942)                                                          |8.74786695E8    |4.45679012345679    |\n",
            "|427    |To Kill a Mockingbird (1962)                                               |8.74789279E8    |4.292237442922374   |\n",
            "|484    |Maltese Falcon, The (1941)                                                 |8.74793898E8    |4.2101449275362315  |\n",
            "|178    |12 Angry Men (1957)                                                        |8.74831383E8    |4.344               |\n",
            "|285    |Secrets & Lies (1996)                                                      |8.74833746E8    |4.265432098765432   |\n",
            "|657    |Manchurian Candidate, The (1962)                                           |8.74873745E8    |4.259541984732825   |\n",
            "|480    |North by Northwest (1959)                                                  |8.75238923E8    |4.284916201117318   |\n",
            "|313    |Titanic (1997)                                                             |8.82693234E8    |4.2457142857142856  |\n",
            "|272    |Good Will Hunting (1997)                                                   |8.82955387E8    |4.262626262626263   |\n",
            "+-------+---------------------------------------------------------------------------+----------------+--------------------+\n",
            "\n"
          ]
        }
      ]
    },
    {
      "cell_type": "code",
      "source": [
        "# Give an indication of what the table below is about\n",
        "print(\"Top 25 Movies with the Worst Average Ratings Sorted by \" +\n",
        "\"Oldest Timestamp\")\n",
        "# Print the first 25 rows of worst_avg_rate_tmstmp to the console.\n",
        "worst_avg_rate_tmstmp.show(n = 25, truncate = False)"
      ],
      "metadata": {
        "colab": {
          "base_uri": "https://localhost:8080/"
        },
        "id": "7MI7f8Tr_1g0",
        "outputId": "c1dcd829-4849-4dcb-f57e-57cb45419500"
      },
      "execution_count": null,
      "outputs": [
        {
          "output_type": "stream",
          "name": "stdout",
          "text": [
            "Top 25 Movies with the Worst Average Ratings Sorted by Oldest Timestamp\n",
            "+-------+--------------------------------------+----------------+---------------------+\n",
            "|movieID|movieName                             |oldest_timestamp|worst_average_ratings|\n",
            "+-------+--------------------------------------+----------------+---------------------+\n",
            "|38     |Net, The (1995)                       |8.74730553E8    |3.0083333333333333   |\n",
            "|323    |Dante's Peak (1997)                   |8.74774449E8    |2.933333333333333    |\n",
            "|235    |Mars Attacks! (1996)                  |8.74774956E8    |2.847926267281106    |\n",
            "|546    |Broken Arrow (1996)                   |8.74775914E8    |3.031496062992126    |\n",
            "|53     |Natural Born Killers (1994)           |8.74778274E8    |2.953125             |\n",
            "|231    |Batman Returns (1992)                 |8.74778424E8    |2.683098591549296    |\n",
            "|252    |Lost World: Jurassic Park, The (1997) |8.74780832E8    |2.9430379746835444   |\n",
            "|325    |Crash (1996)                          |8.74786419E8    |2.546875             |\n",
            "|358    |Spawn (1997)                          |8.74786419E8    |2.6153846153846154   |\n",
            "|678    |Volcano (1997)                        |8.74786419E8    |2.808219178082192    |\n",
            "|260    |Event Horizon (1997)                  |8.74786439E8    |2.574803149606299    |\n",
            "|240    |Beavis and Butt-head Do America (1996)|8.74786713E8    |2.7884615384615383   |\n",
            "|411    |Nutty Professor, The (1996)           |8.74786807E8    |2.914110429447853    |\n",
            "|225    |101 Dalmatians (1996)                 |8.74786854E8    |2.908256880733945    |\n",
            "|122    |Cable Guy, The (1996)                 |8.7478715E8     |2.339622641509434    |\n",
            "|1047   |Multiplicity (1996)                   |8.74789005E8    |2.8358208955223883   |\n",
            "|554    |Waterworld (1995)                     |8.74790813E8    |2.803921568627451    |\n",
            "|476    |First Wives Club, The (1996)          |8.74792403E8    |3.01875              |\n",
            "|29     |Batman Forever (1995)                 |8.74796373E8    |2.6666666666666665   |\n",
            "|289    |Evita (1996)                          |8.74815789E8    |2.9806949806949805   |\n",
            "|259    |George of the Jungle (1997)           |8.7482796E8     |2.685185185185185    |\n",
            "|264    |Mimic (1997)                          |8.74828296E8    |2.742574257425743    |\n",
            "|756    |Father of the Bride Part II (1995)    |8.74833878E8    |2.8984375            |\n",
            "|243    |Jungle2Jungle (1997)                  |8.74951039E8    |2.4393939393939394   |\n",
            "|926    |Down Periscope (1996)                 |8.751301E8      |2.702970297029703    |\n",
            "+-------+--------------------------------------+----------------+---------------------+\n",
            "\n"
          ]
        }
      ]
    },
    {
      "cell_type": "markdown",
      "source": [
        "**Saved the output of the results**\n",
        "\n",
        "<p align=\"justify\">The codes are inserted as comments since it will be run again in Section 3. This is to avoid redundant saving of files and errors."
      ],
      "metadata": {
        "id": "sOt_8aaRDkQ9"
      }
    },
    {
      "cell_type": "code",
      "source": [
        "# Write best_avg_rate_tmstmp to a csv file called \"best_average_ratings.csv\" in\n",
        "# the path specified.\n",
        "\n",
        "#best_avg_rate_tmstmp.write.\\\n",
        "#csv(\"/content/drive/MyDrive/DM_Assignment3/best_average_ratings.csv\",\n",
        "#    header=True)\n",
        "\n",
        "# Write worst_avg_rate_tmstmp to a csv file called \"worst_average_ratings.csv\"\n",
        "# in the path specified.\n",
        "\n",
        "#worst_avg_rate_tmstmp.write.\\\n",
        "#csv(\"/content/drive/MyDrive/DM_Assignment3/worst_average_ratings.csv\",\n",
        "#    header=True)"
      ],
      "metadata": {
        "id": "iox9P7eP5wwx"
      },
      "execution_count": null,
      "outputs": []
    },
    {
      "cell_type": "markdown",
      "source": [
        "**Stop the underlying SparkContext**"
      ],
      "metadata": {
        "id": "Y_J_O8ReI5tV"
      }
    },
    {
      "cell_type": "code",
      "source": [
        "# Stop the underlying SparkContext and release the resources associated with it.\n",
        "# This function is new in Spark 2.0.0\n",
        "spark.stop()"
      ],
      "metadata": {
        "id": "BkLAjtt1MrT_"
      },
      "execution_count": null,
      "outputs": []
    },
    {
      "cell_type": "markdown",
      "source": [
        "# **Section 3**\n",
        "\n",
        "<p align=\"justify\">This section provides an overall view of the codes utilised to get to the end results of the top 25 best and worst movies based on average ratings (with more than 100 ratings), ordered by oldest timestamp. The printing of data frames except for the two end result tables are excluded from this section.\n",
        "\n",
        "Note: (`if __name__ == \"__main__\":`) is added in this section as an error handling technique that will be explained in Section 4."
      ],
      "metadata": {
        "id": "d3-MRjvpK0_9"
      }
    },
    {
      "cell_type": "code",
      "source": [
        "from pyspark.sql import SparkSession\n",
        "from pyspark.sql import Row\n",
        "from pyspark.sql.functions import col, avg, min"
      ],
      "metadata": {
        "id": "vuvVka1iKyNX"
      },
      "execution_count": null,
      "outputs": []
    },
    {
      "cell_type": "code",
      "source": [
        "def parseInput(line):\n",
        "  fields = line.split()\n",
        "  return Row(movieID = int(fields[1]), rating = float(fields[2]),\n",
        "             timestamp = float(fields[3]))"
      ],
      "metadata": {
        "id": "dxVjUPpZLCZT"
      },
      "execution_count": null,
      "outputs": []
    },
    {
      "cell_type": "code",
      "source": [
        "if __name__ == \"__main__\":\n",
        "\n",
        "  spark = SparkSession.builder.appName(\"Best&WorstMovieRatings\").getOrCreate()\n",
        "\n",
        "  item_df = spark.read.csv(\"/content/drive/MyDrive/DM_Assignment3/u.item\",\n",
        "                           header=False, sep=\"|\")\n",
        "  item_df = item_df.select(col(\"_c0\").alias(\"movieID\"),\n",
        "                           col(\"_c1\").alias(\"movieName\"))\n",
        "\n",
        "  lines = spark.sparkContext.\\\n",
        "  textFile(\"/content/drive/MyDrive/DM_Assignment3/u.data\")\n",
        "\n",
        "  u_data = lines.map(parseInput)\n",
        "\n",
        "  data_df = spark.createDataFrame(u_data).cache()\n",
        "\n",
        "  more_100_ratings = data_df.groupBy(\"movieID\").count().filter(\"count > 100\")\n",
        "\n",
        "  filtered_movies = more_100_ratings.join(data_df, more_100_ratings.\\\n",
        "                                          movieID == data_df.movieID)\n",
        "  filtered_movies = filtered_movies.drop(more_100_ratings.movieID)\n",
        "\n",
        "  filtered_movies = item_df.join(filtered_movies, item_df.\\\n",
        "                                 movieID == filtered_movies.movieID)\n",
        "  filtered_movies = filtered_movies.drop(item_df.movieID)\n",
        "\n",
        "  oldest_timestamp = data_df.groupBy(\"movieID\").agg(min(\"timestamp\").\\\n",
        "                                                    alias('oldest_timestamp'))\n",
        "\n",
        "  filtered_movies = oldest_timestamp.join(filtered_movies, oldest_timestamp.\\\n",
        "                                          movieID == filtered_movies.movieID)\n",
        "  filtered_movies = filtered_movies.drop(oldest_timestamp.movieID,\n",
        "                                         filtered_movies.timestamp)\n",
        "\n",
        "  avg_ratings_df = filtered_movies.groupBy(filtered_movies.movieID,\n",
        "                                           item_df.movieName,\n",
        "                                           oldest_timestamp.oldest_timestamp).\\\n",
        "                                           agg(avg(\"rating\").\\\n",
        "                                           alias(\"average_rating\"))\n",
        "\n",
        "  avg_ratings_df = avg_ratings_df.orderBy(\"average_rating\", ascending = False)\n",
        "\n",
        "  best_25_average_ratings = avg_ratings_df.limit(25)\n",
        "  worst_25_average_ratings = avg_ratings_df.orderBy(\"average_rating\").limit(25)\n",
        "\n",
        "  best_avg_rate_tmstmp = best_25_average_ratings.orderBy(\"oldest_timestamp\")\n",
        "  best_avg_rate_tmstmp = best_avg_rate_tmstmp.\\\n",
        "                          withColumnRenamed(\"average_rating\",\n",
        "                                            \"best_average_ratings\")\n",
        "\n",
        "  worst_avg_rate_tmstmp = worst_25_average_ratings.orderBy(\"oldest_timestamp\")\n",
        "  worst_avg_rate_tmstmp = worst_avg_rate_tmstmp.\\\n",
        "                        withColumnRenamed(\"average_rating\",\n",
        "                                          \"worst_average_ratings\")\n",
        "\n",
        "  best_avg_rate_tmstmp.write.\\\n",
        "  csv(\"/content/drive/MyDrive/DM_Assignment3/best_average_ratings.csv\",\n",
        "      header=True)\n",
        "\n",
        "  worst_avg_rate_tmstmp.write.\\\n",
        "  csv(\"/content/drive/MyDrive/DM_Assignment3/worst_average_ratings.csv\",\n",
        "      header=True)\n",
        "\n",
        "  print(\"Top 25 Movies with the Best Average Ratings Sorted by \" +\n",
        "  \"Oldest Timestamp\")\n",
        "  best_avg_rate_tmstmp.show(n = 25, truncate = False)\n",
        "\n",
        "  print(\"Top 25 Movies with the Worst Average Ratings Sorted by \" +\n",
        "  \"Oldest Timestamp\")\n",
        "  worst_avg_rate_tmstmp.show(n = 25, truncate = False)\n",
        "\n",
        "  spark.stop()"
      ],
      "metadata": {
        "colab": {
          "base_uri": "https://localhost:8080/"
        },
        "id": "joSxRgh1LVVo",
        "outputId": "e16b4df4-f102-4a17-c3ea-3ee57a44b503"
      },
      "execution_count": null,
      "outputs": [
        {
          "output_type": "stream",
          "name": "stdout",
          "text": [
            "Top 25 Movies with the Best Average Ratings Sorted by Oldest Timestamp\n",
            "+-------+---------------------------------------------------------------------------+----------------+--------------------+\n",
            "|movieID|movieName                                                                  |oldest_timestamp|best_average_ratings|\n",
            "+-------+---------------------------------------------------------------------------+----------------+--------------------+\n",
            "|357    |One Flew Over the Cuckoo's Nest (1975)                                     |8.74725485E8    |4.291666666666667   |\n",
            "|50     |Star Wars (1977)                                                           |8.7472975E8     |4.3584905660377355  |\n",
            "|172    |Empire Strikes Back, The (1980)                                            |8.74729901E8    |4.204359673024523   |\n",
            "|174    |Raiders of the Lost Ark (1981)                                             |8.74729995E8    |4.252380952380952   |\n",
            "|12     |Usual Suspects, The (1995)                                                 |8.74777491E8    |4.385767790262173   |\n",
            "|134    |Citizen Kane (1941)                                                        |8.74777623E8    |4.292929292929293   |\n",
            "|474    |Dr. Strangelove or: How I Learned to Stop Worrying and Love the Bomb (1963)|8.74777623E8    |4.252577319587629   |\n",
            "|64     |Shawshank Redemption, The (1994)                                           |8.74777701E8    |4.445229681978798   |\n",
            "|169    |Wrong Trousers, The (1993)                                                 |8.7477789E8     |4.466101694915254   |\n",
            "|318    |Schindler's List (1993)                                                    |8.74777948E8    |4.466442953020135   |\n",
            "|127    |Godfather, The (1972)                                                      |8.74781076E8    |4.283292978208232   |\n",
            "|511    |Lawrence of Arabia (1962)                                                  |8.74781407E8    |4.23121387283237    |\n",
            "|408    |Close Shave, A (1995)                                                      |8.74784538E8    |4.491071428571429   |\n",
            "|603    |Rear Window (1954)                                                         |8.74785448E8    |4.3875598086124405  |\n",
            "|479    |Vertigo (1958)                                                             |8.74785728E8    |4.251396648044692   |\n",
            "|98     |Silence of the Lambs, The (1991)                                           |8.74786016E8    |4.28974358974359    |\n",
            "|483    |Casablanca (1942)                                                          |8.74786695E8    |4.45679012345679    |\n",
            "|427    |To Kill a Mockingbird (1962)                                               |8.74789279E8    |4.292237442922374   |\n",
            "|484    |Maltese Falcon, The (1941)                                                 |8.74793898E8    |4.2101449275362315  |\n",
            "|178    |12 Angry Men (1957)                                                        |8.74831383E8    |4.344               |\n",
            "|285    |Secrets & Lies (1996)                                                      |8.74833746E8    |4.265432098765432   |\n",
            "|657    |Manchurian Candidate, The (1962)                                           |8.74873745E8    |4.259541984732825   |\n",
            "|480    |North by Northwest (1959)                                                  |8.75238923E8    |4.284916201117318   |\n",
            "|313    |Titanic (1997)                                                             |8.82693234E8    |4.2457142857142856  |\n",
            "|272    |Good Will Hunting (1997)                                                   |8.82955387E8    |4.262626262626263   |\n",
            "+-------+---------------------------------------------------------------------------+----------------+--------------------+\n",
            "\n",
            "Top 25 Movies with the Worst Average Ratings Sorted by Oldest Timestamp\n",
            "+-------+--------------------------------------+----------------+---------------------+\n",
            "|movieID|movieName                             |oldest_timestamp|worst_average_ratings|\n",
            "+-------+--------------------------------------+----------------+---------------------+\n",
            "|38     |Net, The (1995)                       |8.74730553E8    |3.0083333333333333   |\n",
            "|323    |Dante's Peak (1997)                   |8.74774449E8    |2.933333333333333    |\n",
            "|235    |Mars Attacks! (1996)                  |8.74774956E8    |2.847926267281106    |\n",
            "|546    |Broken Arrow (1996)                   |8.74775914E8    |3.031496062992126    |\n",
            "|53     |Natural Born Killers (1994)           |8.74778274E8    |2.953125             |\n",
            "|231    |Batman Returns (1992)                 |8.74778424E8    |2.683098591549296    |\n",
            "|252    |Lost World: Jurassic Park, The (1997) |8.74780832E8    |2.9430379746835444   |\n",
            "|325    |Crash (1996)                          |8.74786419E8    |2.546875             |\n",
            "|358    |Spawn (1997)                          |8.74786419E8    |2.6153846153846154   |\n",
            "|678    |Volcano (1997)                        |8.74786419E8    |2.808219178082192    |\n",
            "|260    |Event Horizon (1997)                  |8.74786439E8    |2.574803149606299    |\n",
            "|240    |Beavis and Butt-head Do America (1996)|8.74786713E8    |2.7884615384615383   |\n",
            "|411    |Nutty Professor, The (1996)           |8.74786807E8    |2.914110429447853    |\n",
            "|225    |101 Dalmatians (1996)                 |8.74786854E8    |2.908256880733945    |\n",
            "|122    |Cable Guy, The (1996)                 |8.7478715E8     |2.339622641509434    |\n",
            "|1047   |Multiplicity (1996)                   |8.74789005E8    |2.8358208955223883   |\n",
            "|554    |Waterworld (1995)                     |8.74790813E8    |2.803921568627451    |\n",
            "|476    |First Wives Club, The (1996)          |8.74792403E8    |3.01875              |\n",
            "|29     |Batman Forever (1995)                 |8.74796373E8    |2.6666666666666665   |\n",
            "|289    |Evita (1996)                          |8.74815789E8    |2.9806949806949805   |\n",
            "|259    |George of the Jungle (1997)           |8.7482796E8     |2.685185185185185    |\n",
            "|264    |Mimic (1997)                          |8.74828296E8    |2.742574257425743    |\n",
            "|756    |Father of the Bride Part II (1995)    |8.74833878E8    |2.8984375            |\n",
            "|243    |Jungle2Jungle (1997)                  |8.74951039E8    |2.4393939393939394   |\n",
            "|926    |Down Periscope (1996)                 |8.751301E8      |2.702970297029703    |\n",
            "+-------+--------------------------------------+----------------+---------------------+\n",
            "\n"
          ]
        }
      ]
    },
    {
      "cell_type": "markdown",
      "source": [
        "# **Section 4**\n",
        "\n"
      ],
      "metadata": {
        "id": "CL-pLjyME4UO"
      }
    },
    {
      "cell_type": "markdown",
      "source": [
        "\n",
        "**Used efficient and optimal Spark transformations and actions**\n",
        "\n",
        "<p align=\"justify\">By implementing efficient and optimal Spark transformations and actions as listed down below, the codes aim to process the data in Spark with improved performance.\n",
        "\n",
        "1. **RDD of Row objects and Data Frame**: In the codes, an RDD was created, where it is a way of storing key value information/general information in an object on the cluster. It is able to handle failure in a resilient manner. Besides that, it is compatible with various APIs and libraries, making it beneficial for heavy data processing tasks. The RDD can be easily combined with data frame based activities by converting it into a data frame. It can also be converted into an RDD of Row objects, which are flexible and dynamic in representing data. Without the need for a specific schema, Row objects can convert between RDDs and DataFrames without any issues. Data frames are more efficient and thus building data frames on top of the RDD of Row objects can provide more efficient query execution and optimisation.\n",
        "2. **Caching**: The *cache* function is then used to cache the data frame from earlier. By keeping the data frame in memory and preventing needless recomputation when the data is reused, caching enhances the performance of frequently accessed data.\n",
        "3. **Column pruning**: By using the *drop* function, redundant and irrelavent columns are removed from being processed further. Even the \"count\" column is dropped right after it is no longer needed. The *count* function is a Spark action that should be removed when not required to avoid unnecessary usage of CPU cycles and other resources.\n",
        "4. **Filtering**: The *filter* transformation is applied at an early stage, directly to the data frame, which reduces the data to be processed and analysed in the subsequent codes.\n",
        "5. **Selecting relevant columns**: In reading the u.item data set, the *select* function is used to only retrieve relevant columns (movie ID and movie title) based on our query. This is more optimal than simply reading-in all the columns available.\n",
        "6. **Group by**: The *groupBy* function aids in aggregating data based on the specified columns. This way, any calculations or computations can be done on each group more efficiently.\n",
        "7. **Stopping the underlying SparkContext**: The *spark.stop* function is used to stop the SparkSession and release any resources held by Spark to ensure  appropriate resource deallocation and cleanup. If the SparkSession is not shut down, its cluster resources cannot be assigned to other tasks.\n",
        "\n"
      ],
      "metadata": {
        "id": "Tf2JPW8nFFgl"
      }
    },
    {
      "cell_type": "markdown",
      "source": [
        "**Used appropriate error handling techniques**\n",
        "\n",
        "The error handling technique utilised in the codes mainly comes from (`if __name__ == \"__main__\":`). Codes inside this if statement are only executed when the program is run directly by the Python interpreter. We can dictate what goes into this if statement. In the case of being run directly by the Python interpreter, `__name__`, which is a unique variable in Python, will be set to `__main__`. On the other hand, the code will not be executed if it is imported as a module. As a matter of fact, `__name__` will be set as the name of the module, thus rendering the script unable to be executed. We can then avoid unwanted executions. It is a mechanism to regulate how a script runs based on whether it is imported as a module or ran directly.\n"
      ],
      "metadata": {
        "id": "yLjKOpfPFBe_"
      }
    }
  ]
}